{
 "cells": [
  {
   "cell_type": "markdown",
   "id": "3f465500",
   "metadata": {},
   "source": [
    "# Explore population density in the bay area\n",
    "\n",
    "University of California, Berkeley\n",
    "\n",
    "Master of Information and Data Science (MIDS) program\n",
    "\n",
    "w205 - Fundamentals of Data Engineering\n"
   ]
  },
  {
   "cell_type": "markdown",
   "id": "33c6e20e",
   "metadata": {},
   "source": [
    "# Modules and Packages\n",
    "\n"
   ]
  },
  {
   "cell_type": "code",
   "execution_count": 2,
   "id": "530d745a",
   "metadata": {},
   "outputs": [],
   "source": [
    "import math\n",
    "import numpy as np\n",
    "import pandas as pd\n",
    "\n",
    "import psycopg2\n",
    "\n",
    "from geographiclib.geodesic import Geodesic"
   ]
  },
  {
   "cell_type": "markdown",
   "id": "c91c8869",
   "metadata": {},
   "source": [
    "# Supporting code"
   ]
  },
  {
   "cell_type": "code",
   "execution_count": 3,
   "id": "f0119fb5",
   "metadata": {},
   "outputs": [],
   "source": [
    "def my_calculate_box(point, miles):\n",
    "    \"Given a point and miles, calculate the box in form left, right, top, bottom\"\n",
    "    \n",
    "    geod = Geodesic.WGS84\n",
    "\n",
    "    kilometers = miles * 1.60934\n",
    "    meters = kilometers * 1000\n",
    "\n",
    "    g = geod.Direct(point[0], point[1], 270, meters)\n",
    "    left = (g['lat2'], g['lon2'])\n",
    "\n",
    "    g = geod.Direct(point[0], point[1], 90, meters)\n",
    "    right = (g['lat2'], g['lon2'])\n",
    "\n",
    "    g = geod.Direct(point[0], point[1], 0, meters)\n",
    "    top = (g['lat2'], g['lon2'])\n",
    "\n",
    "    g = geod.Direct(point[0], point[1], 180, meters)\n",
    "    bottom = (g['lat2'], g['lon2'])\n",
    "    \n",
    "    return(left, right, top, bottom)"
   ]
  },
  {
   "cell_type": "code",
   "execution_count": 10,
   "id": "184ff815",
   "metadata": {},
   "outputs": [],
   "source": [
    "def my_station_get_zips(station, miles):\n",
    "    \"given a station, pull all zip codes with miles distance, print them, sum the population\"\n",
    "    \n",
    "    connection.rollback()\n",
    "    \n",
    "    query = \"select latitude, longitude from stations \"\n",
    "    query += \"where station = '\" + station + \"'\"\n",
    "    \n",
    "    cursor.execute(query)\n",
    "    \n",
    "    connection.rollback()\n",
    "    \n",
    "    rows = cursor.fetchall()\n",
    "    \n",
    "    for row in rows:\n",
    "        latitude = row[0]\n",
    "        longitude = row[1]\n",
    "        \n",
    "    point = (latitude, longitude)\n",
    "        \n",
    "    (left, right, top, bottom) = my_calculate_box(point, miles)\n",
    "    \n",
    "    query = \"select zip, population from zip_codes \"\n",
    "    query += \" where latitude >= \" + str(bottom[0])\n",
    "    query += \" and latitude <= \" + str(top [0])\n",
    "    query += \" and longitude >= \" + str(left[1])\n",
    "    query += \" and longitude <= \" + str(right[1])\n",
    "    query += \" order by 1 \"\n",
    "\n",
    "    cursor.execute(query)\n",
    "    \n",
    "    connection.rollback()\n",
    "    \n",
    "    return(pd.DataFrame(cursor.fetchall(), columns =['zip', 'population']))\n",
    "        "
   ]
  },
  {
   "cell_type": "code",
   "execution_count": 5,
   "id": "c9671e9d",
   "metadata": {},
   "outputs": [],
   "source": [
    "connection = psycopg2.connect(\n",
    "    user = \"postgres\",\n",
    "    password = \"ucb\",\n",
    "    host = \"postgres\",\n",
    "    port = \"5432\",\n",
    "    database = \"postgres\"\n",
    ")"
   ]
  },
  {
   "cell_type": "code",
   "execution_count": 6,
   "id": "4d02d576",
   "metadata": {},
   "outputs": [],
   "source": [
    "cursor = connection.cursor()"
   ]
  },
  {
   "cell_type": "markdown",
   "id": "c0139cc0",
   "metadata": {},
   "source": [
    "# Find all zip codes and population, within 1, 3, 5, and 10 miles of the Downtown Berkeley station\n",
    "\n",
    "To start, we'll look at all of the zip codes and population of those zip codes that we can service from the Downtown Berkley station. We'll use these panda's dataframes to compare to other stations to ensure that we're reaching net new cusotmers."
   ]
  },
  {
   "cell_type": "code",
   "execution_count": 23,
   "id": "3378b9c8",
   "metadata": {},
   "outputs": [
    {
     "data": {
      "text/html": [
       "<div>\n",
       "<style scoped>\n",
       "    .dataframe tbody tr th:only-of-type {\n",
       "        vertical-align: middle;\n",
       "    }\n",
       "\n",
       "    .dataframe tbody tr th {\n",
       "        vertical-align: top;\n",
       "    }\n",
       "\n",
       "    .dataframe thead th {\n",
       "        text-align: right;\n",
       "    }\n",
       "</style>\n",
       "<table border=\"1\" class=\"dataframe\">\n",
       "  <thead>\n",
       "    <tr style=\"text-align: right;\">\n",
       "      <th></th>\n",
       "      <th>zip</th>\n",
       "      <th>population</th>\n",
       "    </tr>\n",
       "  </thead>\n",
       "  <tbody>\n",
       "    <tr>\n",
       "      <th>0</th>\n",
       "      <td>94702</td>\n",
       "      <td>17092</td>\n",
       "    </tr>\n",
       "    <tr>\n",
       "      <th>1</th>\n",
       "      <td>94703</td>\n",
       "      <td>21937</td>\n",
       "    </tr>\n",
       "    <tr>\n",
       "      <th>2</th>\n",
       "      <td>94704</td>\n",
       "      <td>29190</td>\n",
       "    </tr>\n",
       "    <tr>\n",
       "      <th>3</th>\n",
       "      <td>94709</td>\n",
       "      <td>11740</td>\n",
       "    </tr>\n",
       "    <tr>\n",
       "      <th>4</th>\n",
       "      <td>94720</td>\n",
       "      <td>2971</td>\n",
       "    </tr>\n",
       "  </tbody>\n",
       "</table>\n",
       "</div>"
      ],
      "text/plain": [
       "     zip population\n",
       "0  94702      17092\n",
       "1  94703      21937\n",
       "2  94704      29190\n",
       "3  94709      11740\n",
       "4  94720       2971"
      ]
     },
     "execution_count": 23,
     "metadata": {},
     "output_type": "execute_result"
    }
   ],
   "source": [
    "downtown_berkley_1_mile = my_station_get_zips('Downtown Berkeley', 1)\n",
    "downtown_berkley_3_mile = my_station_get_zips('Downtown Berkeley', 3)\n",
    "downtown_berkley_5_mile = my_station_get_zips('Downtown Berkeley', 5)\n",
    "downtown_berkley_10_mile = my_station_get_zips('Downtown Berkeley', 10)\n",
    "\n",
    "downtown_berkley_1_mile"
   ]
  },
  {
   "cell_type": "markdown",
   "id": "461c1587",
   "metadata": {},
   "source": [
    "# Get list of all other stations excluding 'Downtown Berkley'"
   ]
  },
  {
   "cell_type": "code",
   "execution_count": 22,
   "id": "8eba3e05",
   "metadata": {},
   "outputs": [],
   "source": [
    "def get_stations():\n",
    "    connection.rollback()\n",
    "    \n",
    "    query = \"select station from stations where station <> 'Downtown Berkley'\"\n",
    "\n",
    "    cursor.execute(query)\n",
    "\n",
    "    stations = []\n",
    "    temp_stations = cursor.fetchall()\n",
    "    for station in temp_stations:\n",
    "        stations.append(station[0])\n",
    "    \n",
    "    return stations"
   ]
  },
  {
   "cell_type": "markdown",
   "id": "232ca524",
   "metadata": {},
   "source": [
    "# Fin all zip codes and population within a distence of every station\n",
    "\n",
    "At least 75% of the population must be in zip codes that are not within the same distence of the Downtown Berkeley station"
   ]
  },
  {
   "cell_type": "code",
   "execution_count": 62,
   "id": "dacc42d9",
   "metadata": {},
   "outputs": [],
   "source": [
    "def find_net_new_customers(distance):\n",
    "    \"\"\"finds all stations where 50% of the population within the distence would be net new\"\"\"\n",
    "    stations = get_stations()\n",
    "    \n",
    "    berkeley_zips = my_station_get_zips('Downtown Berkeley', distance)\n",
    "    berkeley_pop = berkeley_zips['population'].sum()\n",
    "    \n",
    "    new_stations = []\n",
    "    \n",
    "    for station in stations:\n",
    "        station_zips = my_station_get_zips(station, distance)\n",
    "        \n",
    "        new_pop = station_zips['population'].sum()\n",
    "        overlap_zips = pd.DataFrame(berkeley_zips.merge(station_zips, right_on='zip', left_on='zip',how='inner'))\n",
    "        \n",
    "        overlap_zip_pop = overlap_zips['population_x'].sum()\n",
    "        \n",
    "        percent_new = ( new_pop / overlap_zip_pop ) if overlap_zip_pop != 0 else 0\n",
    "        \n",
    "        if percent_new < .75:\n",
    "            new_stations.append(station)\n",
    "    \n",
    "    return new_stations"
   ]
  },
  {
   "cell_type": "code",
   "execution_count": 63,
   "id": "f9388151",
   "metadata": {},
   "outputs": [
    {
     "data": {
      "text/plain": [
       "['16th Street Mission',\n",
       " '24th Street Mission',\n",
       " 'Antioch',\n",
       " 'Balboa Park',\n",
       " 'Bay Fair',\n",
       " 'Berryessa',\n",
       " 'Castro Valley',\n",
       " 'Civic Center',\n",
       " 'Colma',\n",
       " 'Concord',\n",
       " 'Daly City',\n",
       " 'Dublin',\n",
       " 'Embarcadero',\n",
       " 'Fremont',\n",
       " 'Glen Park',\n",
       " 'Hayward',\n",
       " 'Millbrae',\n",
       " 'Milpitas',\n",
       " 'Montgomery Street',\n",
       " 'North Concord',\n",
       " 'OAK',\n",
       " 'Pittsburg',\n",
       " 'Pittsburg Center',\n",
       " 'Pleasant Hill',\n",
       " 'Powell Street',\n",
       " 'SFO',\n",
       " 'San Bruno',\n",
       " 'San Leandro',\n",
       " 'South Hayward',\n",
       " 'South San Francisco',\n",
       " 'Union City',\n",
       " 'Walnut Creek',\n",
       " 'Warm Springs',\n",
       " 'West Dublin']"
      ]
     },
     "execution_count": 63,
     "metadata": {},
     "output_type": "execute_result"
    }
   ],
   "source": [
    "find_net_new_customers(5)"
   ]
  },
  {
   "cell_type": "code",
   "execution_count": null,
   "id": "8d4807e1",
   "metadata": {},
   "outputs": [],
   "source": []
  },
  {
   "cell_type": "code",
   "execution_count": null,
   "id": "b578f0a4",
   "metadata": {},
   "outputs": [],
   "source": []
  },
  {
   "cell_type": "code",
   "execution_count": null,
   "id": "762cdc3d",
   "metadata": {},
   "outputs": [],
   "source": []
  },
  {
   "cell_type": "code",
   "execution_count": null,
   "id": "07116977",
   "metadata": {},
   "outputs": [],
   "source": []
  }
 ],
 "metadata": {
  "kernelspec": {
   "display_name": "Python 3",
   "language": "python",
   "name": "python3"
  },
  "language_info": {
   "codemirror_mode": {
    "name": "ipython",
    "version": 3
   },
   "file_extension": ".py",
   "mimetype": "text/x-python",
   "name": "python",
   "nbconvert_exporter": "python",
   "pygments_lexer": "ipython3",
   "version": "3.8.8"
  }
 },
 "nbformat": 4,
 "nbformat_minor": 5
}
