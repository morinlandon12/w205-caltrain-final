{
 "cells": [
  {
   "cell_type": "markdown",
   "id": "3f465500",
   "metadata": {},
   "source": [
    "# Explore population density in the bay area\n",
    "\n",
    "University of California, Berkeley\n",
    "\n",
    "Master of Information and Data Science (MIDS) program\n",
    "\n",
    "w205 - Fundamentals of Data Engineering\n"
   ]
  },
  {
   "cell_type": "markdown",
   "id": "33c6e20e",
   "metadata": {},
   "source": [
    "# Modules and Packages\n",
    "\n"
   ]
  },
  {
   "cell_type": "code",
   "execution_count": 1,
   "id": "530d745a",
   "metadata": {},
   "outputs": [],
   "source": [
    "import neo4j\n",
    "\n",
    "import csv\n",
    "\n",
    "import math\n",
    "import numpy as np\n",
    "import pandas as pd\n",
    "\n",
    "import psycopg2\n",
    "\n",
    "from geographiclib.geodesic import Geodesic"
   ]
  },
  {
   "cell_type": "markdown",
   "id": "c91c8869",
   "metadata": {},
   "source": [
    "# Supporting code"
   ]
  },
  {
   "cell_type": "code",
   "execution_count": 2,
   "id": "685b8d3e",
   "metadata": {},
   "outputs": [],
   "source": [
    "def my_neo4j_shortest_path(from_station, to_station):\n",
    "    \"given a from station and to station, run and print the shortest path\"\n",
    "    \n",
    "    query = \"CALL gds.graph.drop('ds_graph', false)\"\n",
    "    session.run(query)\n",
    "\n",
    "    query = \"CALL gds.graph.create('ds_graph', 'Station', 'LINK', {relationshipProperties: 'weight'})\"\n",
    "    session.run(query)\n",
    "\n",
    "    query = \"\"\"\n",
    "\n",
    "    MATCH (source:Station {name: $source}), (target:Station {name: $target})\n",
    "    CALL gds.shortestPath.dijkstra.stream(\n",
    "        'ds_graph', \n",
    "        { sourceNode: source, \n",
    "          targetNode: target, \n",
    "          relationshipWeightProperty: 'weight'\n",
    "        }\n",
    "    )\n",
    "    YIELD index, sourceNode, targetNode, totalCost, nodeIds, costs, path\n",
    "    RETURN\n",
    "        gds.util.asNode(sourceNode).name AS from,\n",
    "        gds.util.asNode(targetNode).name AS to,\n",
    "        totalCost,\n",
    "        [nodeId IN nodeIds | gds.util.asNode(nodeId).name] AS nodes,\n",
    "        costs\n",
    "    ORDER BY index\n",
    "\n",
    "    \"\"\"\n",
    "\n",
    "    result = session.run(query, source=from_station, target=to_station)\n",
    "    \n",
    "    costs = {}\n",
    "    \n",
    "    for r in result:\n",
    "        \n",
    "        total_cost = int(r['totalCost'])\n",
    "        \n",
    "        costs['total_cost'] = total_cost\n",
    "        costs['minutes'] = round(total_cost / 60.0,1)\n",
    "    \n",
    "    return(costs)\n",
    "    "
   ]
  },
  {
   "cell_type": "code",
   "execution_count": 3,
   "id": "f0119fb5",
   "metadata": {},
   "outputs": [],
   "source": [
    "def my_calculate_box(point, miles):\n",
    "    \"Given a point and miles, calculate the box in form left, right, top, bottom\"\n",
    "    \n",
    "    geod = Geodesic.WGS84\n",
    "\n",
    "    kilometers = miles * 1.60934\n",
    "    meters = kilometers * 1000\n",
    "\n",
    "    g = geod.Direct(point[0], point[1], 270, meters)\n",
    "    left = (g['lat2'], g['lon2'])\n",
    "\n",
    "    g = geod.Direct(point[0], point[1], 90, meters)\n",
    "    right = (g['lat2'], g['lon2'])\n",
    "\n",
    "    g = geod.Direct(point[0], point[1], 0, meters)\n",
    "    top = (g['lat2'], g['lon2'])\n",
    "\n",
    "    g = geod.Direct(point[0], point[1], 180, meters)\n",
    "    bottom = (g['lat2'], g['lon2'])\n",
    "    \n",
    "    return(left, right, top, bottom)"
   ]
  },
  {
   "cell_type": "code",
   "execution_count": 4,
   "id": "184ff815",
   "metadata": {},
   "outputs": [],
   "source": [
    "def my_station_get_zips(station, miles):\n",
    "    \"given a station, pull all zip codes with miles distance, print them, sum the population\"\n",
    "    \n",
    "    connection.rollback()\n",
    "    \n",
    "    query = \"select latitude, longitude from stations \"\n",
    "    query += \"where station = '\" + station + \"'\"\n",
    "    \n",
    "    cursor.execute(query)\n",
    "    \n",
    "    connection.rollback()\n",
    "    \n",
    "    rows = cursor.fetchall()\n",
    "    \n",
    "    for row in rows:\n",
    "        latitude = row[0]\n",
    "        longitude = row[1]\n",
    "        \n",
    "    point = (latitude, longitude)\n",
    "        \n",
    "    (left, right, top, bottom) = my_calculate_box(point, miles)\n",
    "    \n",
    "    query = \"select zip, population from zip_codes \"\n",
    "    query += \" where latitude >= \" + str(bottom[0])\n",
    "    query += \" and latitude <= \" + str(top [0])\n",
    "    query += \" and longitude >= \" + str(left[1])\n",
    "    query += \" and longitude <= \" + str(right[1])\n",
    "    query += \" order by 1 \"\n",
    "\n",
    "    cursor.execute(query)\n",
    "    \n",
    "    connection.rollback()\n",
    "    \n",
    "    return(pd.DataFrame(cursor.fetchall(), columns =['zip', 'population']))\n",
    "        "
   ]
  },
  {
   "cell_type": "code",
   "execution_count": 5,
   "id": "69ad904a",
   "metadata": {},
   "outputs": [],
   "source": [
    "def my_select_query_pandas(query, rollback_before_flag, rollback_after_flag):\n",
    "    \"function to run a select query and return rows in a pandas dataframe\"\n",
    "    \n",
    "    if rollback_before_flag:\n",
    "        connection.rollback()\n",
    "    \n",
    "    df = pd.read_sql_query(query, connection)\n",
    "    \n",
    "    if rollback_after_flag:\n",
    "        connection.rollback()\n",
    "    \n",
    "    # fix the float columns that really should be integers\n",
    "    \n",
    "    for column in df:\n",
    "    \n",
    "        if df[column].dtype == \"float64\":\n",
    "\n",
    "            fraction_flag = False\n",
    "\n",
    "            for value in df[column].values:\n",
    "                \n",
    "                if not np.isnan(value):\n",
    "                    if value - math.floor(value) != 0:\n",
    "                        fraction_flag = True\n",
    "\n",
    "            if not fraction_flag:\n",
    "                df[column] = df[column].astype('Int64')\n",
    "    \n",
    "    return(df)\n"
   ]
  },
  {
   "cell_type": "code",
   "execution_count": 6,
   "id": "c9671e9d",
   "metadata": {},
   "outputs": [],
   "source": [
    "connection = psycopg2.connect(\n",
    "    user = \"postgres\",\n",
    "    password = \"ucb\",\n",
    "    host = \"postgres\",\n",
    "    port = \"5432\",\n",
    "    database = \"postgres\"\n",
    ")"
   ]
  },
  {
   "cell_type": "code",
   "execution_count": 7,
   "id": "4d02d576",
   "metadata": {},
   "outputs": [],
   "source": [
    "cursor = connection.cursor()\n",
    "\n",
    "driver = neo4j.GraphDatabase.driver(uri=\"neo4j://neo4j:7687\", auth=(\"neo4j\",\"w205\"))\n",
    "\n",
    "session = driver.session(database=\"neo4j\")"
   ]
  },
  {
   "cell_type": "markdown",
   "id": "c0139cc0",
   "metadata": {},
   "source": [
    "# Find all zip codes and population, within 1, 3, 5, and 10 miles of the Downtown Berkeley station\n",
    "\n",
    "To start, we'll look at all of the zip codes and population of those zip codes that we can service from the Downtown Berkley station. We'll use these panda's dataframes to compare to other stations to ensure that we're reaching net new cusotmers."
   ]
  },
  {
   "cell_type": "code",
   "execution_count": 8,
   "id": "3378b9c8",
   "metadata": {},
   "outputs": [
    {
     "data": {
      "text/html": [
       "<div>\n",
       "<style scoped>\n",
       "    .dataframe tbody tr th:only-of-type {\n",
       "        vertical-align: middle;\n",
       "    }\n",
       "\n",
       "    .dataframe tbody tr th {\n",
       "        vertical-align: top;\n",
       "    }\n",
       "\n",
       "    .dataframe thead th {\n",
       "        text-align: right;\n",
       "    }\n",
       "</style>\n",
       "<table border=\"1\" class=\"dataframe\">\n",
       "  <thead>\n",
       "    <tr style=\"text-align: right;\">\n",
       "      <th></th>\n",
       "      <th>zip</th>\n",
       "      <th>population</th>\n",
       "    </tr>\n",
       "  </thead>\n",
       "  <tbody>\n",
       "    <tr>\n",
       "      <th>0</th>\n",
       "      <td>94702</td>\n",
       "      <td>17092</td>\n",
       "    </tr>\n",
       "    <tr>\n",
       "      <th>1</th>\n",
       "      <td>94703</td>\n",
       "      <td>21937</td>\n",
       "    </tr>\n",
       "    <tr>\n",
       "      <th>2</th>\n",
       "      <td>94704</td>\n",
       "      <td>29190</td>\n",
       "    </tr>\n",
       "    <tr>\n",
       "      <th>3</th>\n",
       "      <td>94709</td>\n",
       "      <td>11740</td>\n",
       "    </tr>\n",
       "    <tr>\n",
       "      <th>4</th>\n",
       "      <td>94720</td>\n",
       "      <td>2971</td>\n",
       "    </tr>\n",
       "  </tbody>\n",
       "</table>\n",
       "</div>"
      ],
      "text/plain": [
       "     zip population\n",
       "0  94702      17092\n",
       "1  94703      21937\n",
       "2  94704      29190\n",
       "3  94709      11740\n",
       "4  94720       2971"
      ]
     },
     "execution_count": 8,
     "metadata": {},
     "output_type": "execute_result"
    }
   ],
   "source": [
    "downtown_berkley_1_mile = my_station_get_zips('Downtown Berkeley', 1)\n",
    "downtown_berkley_3_mile = my_station_get_zips('Downtown Berkeley', 3)\n",
    "downtown_berkley_5_mile = my_station_get_zips('Downtown Berkeley', 5)\n",
    "downtown_berkley_10_mile = my_station_get_zips('Downtown Berkeley', 10)\n",
    "\n",
    "downtown_berkley_1_mile"
   ]
  },
  {
   "cell_type": "markdown",
   "id": "461c1587",
   "metadata": {},
   "source": [
    "# Get list of all other stations excluding 'Downtown Berkley'"
   ]
  },
  {
   "cell_type": "code",
   "execution_count": 9,
   "id": "8eba3e05",
   "metadata": {},
   "outputs": [],
   "source": [
    "def get_stations():\n",
    "    connection.rollback()\n",
    "    \n",
    "    query = \"select station from stations where station <> 'Downtown Berkley'\"\n",
    "\n",
    "    cursor.execute(query)\n",
    "\n",
    "    stations = []\n",
    "    temp_stations = cursor.fetchall()\n",
    "    for station in temp_stations:\n",
    "        stations.append(station[0])\n",
    "    \n",
    "    return stations"
   ]
  },
  {
   "cell_type": "markdown",
   "id": "232ca524",
   "metadata": {},
   "source": [
    "# Fin all zip codes and population within a distence of every station\n",
    "\n",
    "At least 75% of the population must be in zip codes that are not within the same distence of the Downtown Berkeley station"
   ]
  },
  {
   "cell_type": "code",
   "execution_count": 10,
   "id": "dacc42d9",
   "metadata": {},
   "outputs": [],
   "source": [
    "def find_net_new_customers(distance):\n",
    "    \"\"\"finds all stations where 50% of the population within the distence would be net new\"\"\"\n",
    "    stations = get_stations()\n",
    "    \n",
    "    berkeley_zips = my_station_get_zips('Downtown Berkeley', distance)\n",
    "    berkeley_pop = berkeley_zips['population'].sum()\n",
    "    \n",
    "    new_stations = []\n",
    "    \n",
    "    for station in stations:\n",
    "        station_zips = my_station_get_zips(station, distance)\n",
    "        \n",
    "        new_pop = station_zips['population'].sum()\n",
    "        overlap_zips = pd.DataFrame(berkeley_zips.merge(station_zips, right_on='zip', left_on='zip',how='inner'))\n",
    "        \n",
    "        overlap_zip_pop = overlap_zips['population_x'].sum()\n",
    "        \n",
    "        percent_new = ( new_pop / overlap_zip_pop ) if overlap_zip_pop != 0 else 0\n",
    "        \n",
    "        if percent_new < .75:\n",
    "            new_stations.append(station)\n",
    "    \n",
    "    return new_stations"
   ]
  },
  {
   "cell_type": "code",
   "execution_count": 11,
   "id": "f9388151",
   "metadata": {},
   "outputs": [
    {
     "data": {
      "text/plain": [
       "{'Antioch': 61.0,\n",
       " 'Berryessa': 70.0,\n",
       " 'Concord': 35.0,\n",
       " 'Dublin': 49.9,\n",
       " 'Fremont': 50.0,\n",
       " 'Millbrae': 60.0,\n",
       " 'Milpitas': 65.0,\n",
       " 'North Concord': 38.0,\n",
       " 'Pittsburg': 44.0,\n",
       " 'Pittsburg Center': 54.0,\n",
       " 'SFO': 57.8,\n",
       " 'San Bruno': 53.0,\n",
       " 'South Hayward': 40.0,\n",
       " 'Union City': 45.0,\n",
       " 'Warm Springs': 56.0,\n",
       " 'West Dublin': 46.9}"
      ]
     },
     "execution_count": 11,
     "metadata": {},
     "output_type": "execute_result"
    }
   ],
   "source": [
    "stations_outside_distance = {}\n",
    "for c in find_net_new_customers(8):\n",
    "    stations_outside_distance[c] = my_neo4j_shortest_path('depart Downtown Berkeley','arrive ' + str(c))['minutes']\n",
    "\n",
    "stations_outside_distance"
   ]
  },
  {
   "cell_type": "code",
   "execution_count": 12,
   "id": "cc3bddc2",
   "metadata": {},
   "outputs": [],
   "source": [
    "stations_outside_train_length = {}\n",
    "\n",
    "shorest = stations_outside_distance[list(stations_outside_distance.keys())[0]]\n",
    "\n",
    "for i in list(stations_outside_distance.keys()):\n",
    "    if stations_outside_distance[i] < shorest:\n",
    "        shorest = stations_outside_distance[i]\n",
    "\n",
    "for c in get_stations():\n",
    "    if my_neo4j_shortest_path('depart Downtown Berkeley','arrive ' + str(c))['minutes'] > shorest:\n",
    "        stations_outside_train_length[c] = my_neo4j_shortest_path('depart Downtown Berkeley','arrive ' + str(c))['minutes']"
   ]
  },
  {
   "cell_type": "code",
   "execution_count": 13,
   "id": "09af0261",
   "metadata": {},
   "outputs": [
    {
     "data": {
      "text/plain": [
       "['Antioch',\n",
       " 'Balboa Park',\n",
       " 'Berryessa',\n",
       " 'Castro Valley',\n",
       " 'Colma',\n",
       " 'Daly City',\n",
       " 'Dublin',\n",
       " 'Fremont',\n",
       " 'Glen Park',\n",
       " 'Hayward',\n",
       " 'Millbrae',\n",
       " 'Milpitas',\n",
       " 'North Concord',\n",
       " 'Pittsburg',\n",
       " 'Pittsburg Center',\n",
       " 'SFO',\n",
       " 'San Bruno',\n",
       " 'South Hayward',\n",
       " 'South San Francisco',\n",
       " 'Union City',\n",
       " 'Warm Springs',\n",
       " 'West Dublin']"
      ]
     },
     "execution_count": 13,
     "metadata": {},
     "output_type": "execute_result"
    }
   ],
   "source": [
    "list(stations_outside_train_length.keys())"
   ]
  },
  {
   "cell_type": "code",
   "execution_count": 45,
   "id": "19d0befe",
   "metadata": {},
   "outputs": [],
   "source": [
    "def pop_heatmap_by_station(stations, distance):\n",
    "    \"\"\"this funcation takes a list of stations and returns a dataframe for the heatmap\"\"\"\n",
    "    heatmap_df = pd.DataFrame(columns=['latitude', 'longitude'])\n",
    "    \n",
    "    for s in stations:\n",
    "        station_population = my_station_get_zips(s, distance)['population'].sum()\n",
    "        \n",
    "        connection.rollback()\n",
    "    \n",
    "        query = \"select latitude, longitude from stations \"\n",
    "        query += \"where station = '\" + s + \"'\"\n",
    "\n",
    "        cursor.execute(query)\n",
    "\n",
    "        connection.rollback()\n",
    "\n",
    "        rows = cursor.fetchall()\n",
    "\n",
    "        for row in rows:\n",
    "            latitude = row[0]\n",
    "            longitude = row[1]\n",
    "        \n",
    "        new_pop = [[latitude, longitude]] * int(station_population)\n",
    "        \n",
    "        heatmap_df = heatmap_df.append(pd.DataFrame(new_pop, columns=['latitude', 'longitude']), ignore_index=True )\n",
    "    \n",
    "    return(heatmap_df)"
   ]
  },
  {
   "cell_type": "code",
   "execution_count": 46,
   "id": "42b61796",
   "metadata": {},
   "outputs": [
    {
     "name": "stdout",
     "output_type": "stream",
     "text": [
      "9165652\n"
     ]
    },
    {
     "data": {
      "text/html": [
       "<div>\n",
       "<style scoped>\n",
       "    .dataframe tbody tr th:only-of-type {\n",
       "        vertical-align: middle;\n",
       "    }\n",
       "\n",
       "    .dataframe tbody tr th {\n",
       "        vertical-align: top;\n",
       "    }\n",
       "\n",
       "    .dataframe thead th {\n",
       "        text-align: right;\n",
       "    }\n",
       "</style>\n",
       "<table border=\"1\" class=\"dataframe\">\n",
       "  <thead>\n",
       "    <tr style=\"text-align: right;\">\n",
       "      <th></th>\n",
       "      <th>latitude</th>\n",
       "      <th>longitude</th>\n",
       "    </tr>\n",
       "  </thead>\n",
       "  <tbody>\n",
       "    <tr>\n",
       "      <th>0</th>\n",
       "      <td>37.996281</td>\n",
       "      <td>-121.783404</td>\n",
       "    </tr>\n",
       "    <tr>\n",
       "      <th>1</th>\n",
       "      <td>37.996281</td>\n",
       "      <td>-121.783404</td>\n",
       "    </tr>\n",
       "    <tr>\n",
       "      <th>2</th>\n",
       "      <td>37.996281</td>\n",
       "      <td>-121.783404</td>\n",
       "    </tr>\n",
       "    <tr>\n",
       "      <th>3</th>\n",
       "      <td>37.996281</td>\n",
       "      <td>-121.783404</td>\n",
       "    </tr>\n",
       "    <tr>\n",
       "      <th>4</th>\n",
       "      <td>37.996281</td>\n",
       "      <td>-121.783404</td>\n",
       "    </tr>\n",
       "    <tr>\n",
       "      <th>...</th>\n",
       "      <td>...</td>\n",
       "      <td>...</td>\n",
       "    </tr>\n",
       "    <tr>\n",
       "      <th>9165647</th>\n",
       "      <td>37.699726</td>\n",
       "      <td>-121.928273</td>\n",
       "    </tr>\n",
       "    <tr>\n",
       "      <th>9165648</th>\n",
       "      <td>37.699726</td>\n",
       "      <td>-121.928273</td>\n",
       "    </tr>\n",
       "    <tr>\n",
       "      <th>9165649</th>\n",
       "      <td>37.699726</td>\n",
       "      <td>-121.928273</td>\n",
       "    </tr>\n",
       "    <tr>\n",
       "      <th>9165650</th>\n",
       "      <td>37.699726</td>\n",
       "      <td>-121.928273</td>\n",
       "    </tr>\n",
       "    <tr>\n",
       "      <th>9165651</th>\n",
       "      <td>37.699726</td>\n",
       "      <td>-121.928273</td>\n",
       "    </tr>\n",
       "  </tbody>\n",
       "</table>\n",
       "<p>9165652 rows × 2 columns</p>\n",
       "</div>"
      ],
      "text/plain": [
       "          latitude    longitude\n",
       "0        37.996281  -121.783404\n",
       "1        37.996281  -121.783404\n",
       "2        37.996281  -121.783404\n",
       "3        37.996281  -121.783404\n",
       "4        37.996281  -121.783404\n",
       "...            ...          ...\n",
       "9165647  37.699726  -121.928273\n",
       "9165648  37.699726  -121.928273\n",
       "9165649  37.699726  -121.928273\n",
       "9165650  37.699726  -121.928273\n",
       "9165651  37.699726  -121.928273\n",
       "\n",
       "[9165652 rows x 2 columns]"
      ]
     },
     "execution_count": 46,
     "metadata": {},
     "output_type": "execute_result"
    }
   ],
   "source": [
    "heatmap_df = pop_heatmap_by_station(list(stations_outside_train_length.keys()), 5)\n",
    "heatmap_df"
   ]
  },
  {
   "cell_type": "code",
   "execution_count": null,
   "id": "8d4807e1",
   "metadata": {},
   "outputs": [],
   "source": [
    "# look at customers who haven't made a sale yet\n",
    "# find the zip codes where we have customers but they don't come into the store very often"
   ]
  },
  {
   "cell_type": "code",
   "execution_count": 61,
   "id": "b578f0a4",
   "metadata": {},
   "outputs": [
    {
     "data": {
      "text/html": [
       "<div>\n",
       "<style scoped>\n",
       "    .dataframe tbody tr th:only-of-type {\n",
       "        vertical-align: middle;\n",
       "    }\n",
       "\n",
       "    .dataframe tbody tr th {\n",
       "        vertical-align: top;\n",
       "    }\n",
       "\n",
       "    .dataframe thead th {\n",
       "        text-align: right;\n",
       "    }\n",
       "</style>\n",
       "<table border=\"1\" class=\"dataframe\">\n",
       "  <thead>\n",
       "    <tr style=\"text-align: right;\">\n",
       "      <th></th>\n",
       "      <th>customers</th>\n",
       "      <th>revenue</th>\n",
       "    </tr>\n",
       "  </thead>\n",
       "  <tbody>\n",
       "    <tr>\n",
       "      <th>0</th>\n",
       "      <td>8126</td>\n",
       "      <td>25041060</td>\n",
       "    </tr>\n",
       "  </tbody>\n",
       "</table>\n",
       "</div>"
      ],
      "text/plain": [
       "   customers   revenue\n",
       "0       8126  25041060"
      ]
     },
     "execution_count": 61,
     "metadata": {},
     "output_type": "execute_result"
    }
   ],
   "source": [
    "rollback_before_flag = True\n",
    "rollback_after_flag = True\n",
    "\n",
    "query = \"\"\"\n",
    "\n",
    "select \n",
    "    count( distinct( c.customer_id ) ) as customers,\n",
    "    sum(s.total_amount) as revenue\n",
    "    \n",
    "from customers c\n",
    "    join sales s on c.customer_id = s.customer_id\n",
    "    join stores st on c.closest_store_id = st.store_id\n",
    "    \n",
    "where st.city = 'Berkeley'\n",
    "\n",
    "\"\"\"\n",
    "\n",
    "my_select_query_pandas(query, rollback_before_flag, rollback_after_flag)"
   ]
  },
  {
   "cell_type": "code",
   "execution_count": 54,
   "id": "762cdc3d",
   "metadata": {},
   "outputs": [
    {
     "name": "stdout",
     "output_type": "stream",
     "text": [
      "The average customers makes 4.13 orders per month\n"
     ]
    }
   ],
   "source": [
    "rollback_before_flag = True\n",
    "rollback_after_flag = True\n",
    "\n",
    "query = \"\"\"\n",
    "\n",
    "with cte0 as (\n",
    "    select\n",
    "        s.customer_id,\n",
    "        count(distinct(s.sale_id)) as purchases\n",
    "\n",
    "    from customers c\n",
    "        join sales s on c.customer_id = s.customer_id\n",
    "    \n",
    "    group by 1\n",
    ")\n",
    "select\n",
    "    sum(purchases) / count(distinct(customer_id)) as avg_purchases\n",
    "from cte0\n",
    "\n",
    "\n",
    "\"\"\"\n",
    "\n",
    "df_purchases = my_select_query_pandas(query, rollback_before_flag, rollback_after_flag)\n",
    "avg_orders_month = float(df_purchases.iloc[0] / 12)\n",
    "\n",
    "print('The average customers makes ' + str(round(avg_orders_month,2)) + ' orders per month')"
   ]
  },
  {
   "cell_type": "markdown",
   "id": "4583d937",
   "metadata": {},
   "source": [
    "# Find number of potential customers by new location for mapping\n",
    "\n",
    "Sum population within 7.5 miles of Daily City that are not within 7.5 miles of Berkeley\n",
    "Sum popluation within 8 miles of the san jose station (the operating distence of our delivery droves)"
   ]
  },
  {
   "cell_type": "code",
   "execution_count": 59,
   "id": "cf51adca",
   "metadata": {},
   "outputs": [
    {
     "name": "stdout",
     "output_type": "stream",
     "text": [
      "Berryessa: 1181963\n",
      "Daly City: 1108404\n",
      "Antioch: 325681\n",
      "Dublin: 374831\n",
      "Total: 2990879\n"
     ]
    }
   ],
   "source": [
    "locations = {'Berryessa':8,'Daly City':7.5,'Antioch':7.5, 'Dublin':7.5}\n",
    "berkeley_zip = my_station_get_zips('Downtown Berkeley', 7.5)\n",
    "\n",
    "total_customers = 0\n",
    "\n",
    "for l in list(locations.keys()):\n",
    "    new_customers = my_station_get_zips(l, locations[l])\n",
    "    customers = new_customers['population'].sum() - new_customers.merge(berkeley_zip, right_on='zip', left_on='zip')['population_x'].sum()\n",
    "    print(l + ': ' + str(customers))\n",
    "    total_customers+=customers\n",
    "\n",
    "print('Total: ' + str(total_customers))\n"
   ]
  },
  {
   "cell_type": "markdown",
   "id": "c6b3611c",
   "metadata": {},
   "source": [
    "# Scenario Planning\n",
    "\n",
    "Base: population * .02 * 12 * 5 / 30 * avg_orders_month == revenue\n",
    "\n",
    "Bear: population * .0015 * 12 * 5 / 30 * avg_orders_month == revenue\n",
    "\n",
    "Bull: population * .025 * 12 * 5 / 30 * avg_orders_month == revenue"
   ]
  },
  {
   "cell_type": "code",
   "execution_count": 63,
   "id": "0f31dd3a",
   "metadata": {},
   "outputs": [
    {
     "name": "stdout",
     "output_type": "stream",
     "text": [
      "Base: $493748.87\n",
      "Bear: $370311.66\n",
      "Bull: $617186.09\n"
     ]
    }
   ],
   "source": [
    "base_estimation = float(total_customers) * .02 * 12 * 5 / 30 * avg_orders_month\n",
    "bear_estimation = float(total_customers) * .015 * 12 * 5 / 30 * avg_orders_month\n",
    "bull_estimation = float(total_customers) * .025 * 12 * 5 / 30 * avg_orders_month\n",
    "\n",
    "print('Base: $' + str(round(base_estimation, 2)) )\n",
    "print('Bear: $' + str(round(bear_estimation, 2)) )\n",
    "print('Bull: $' + str(round(bull_estimation, 2)) )"
   ]
  },
  {
   "cell_type": "code",
   "execution_count": null,
   "id": "0fc6c842",
   "metadata": {},
   "outputs": [],
   "source": []
  },
  {
   "cell_type": "code",
   "execution_count": null,
   "id": "15716bf9",
   "metadata": {},
   "outputs": [],
   "source": []
  }
 ],
 "metadata": {
  "kernelspec": {
   "display_name": "Python 3",
   "language": "python",
   "name": "python3"
  },
  "language_info": {
   "codemirror_mode": {
    "name": "ipython",
    "version": 3
   },
   "file_extension": ".py",
   "mimetype": "text/x-python",
   "name": "python",
   "nbconvert_exporter": "python",
   "pygments_lexer": "ipython3",
   "version": "3.8.8"
  }
 },
 "nbformat": 4,
 "nbformat_minor": 5
}
